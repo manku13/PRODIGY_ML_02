{
 "cells": [
  {
   "cell_type": "markdown",
   "id": "2d01615d",
   "metadata": {},
   "source": [
    "# Problem Statement:\n",
    "\n",
    "You own the mall and want to understand the customers like who can be easily converge [Target Customers] so that the sense cna be given to marketing team and plan the strategy accordingly."
   ]
  },
  {
   "cell_type": "markdown",
   "id": "3ae880bb",
   "metadata": {},
   "source": [
    "## Content we have in our Dataset:\n",
    "\n",
    "You are owning a supermarket mall and through membership cards, you have some basic data about your customers like Customer ID, age, gender, annual income and spending score.\n",
    "\n",
    "\n",
    "Spending Score is something you assign to the customer based on your defined parameters like customer behavior and purchasing data."
   ]
  },
  {
   "cell_type": "markdown",
   "id": "5746904d",
   "metadata": {},
   "source": [
    "## Importing helpfull libraries for data manipulation and handling"
   ]
  },
  {
   "cell_type": "code",
   "execution_count": null,
   "id": "c117f48f",
   "metadata": {},
   "outputs": [],
   "source": [
    "import pandas as pd\n",
    "import numpy as np\n",
    "import matplotlib.pyplot as plt\n",
    "import sklearn\n",
    "import seaborn as sns\n",
    "\n",
    "%matplotlib inline\n",
    "\n",
    "# Importing the clustering model\n",
    "from sklearn.cluster import KMeans"
   ]
  },
  {
   "cell_type": "code",
   "execution_count": null,
   "id": "415b4100",
   "metadata": {},
   "outputs": [],
   "source": [
    "df = pd.read_csv(\"Mall_Customers.csv\")\n",
    "df.head()"
   ]
  },
  {
   "cell_type": "code",
   "execution_count": null,
   "id": "8cca2d6a",
   "metadata": {},
   "outputs": [],
   "source": [
    "df.describe()"
   ]
  },
  {
   "cell_type": "code",
   "execution_count": null,
   "id": "4b0b1199",
   "metadata": {},
   "outputs": [],
   "source": [
    "sns.histplot(df[\"Annual Income (k$)\"], color = \"skyblue\")"
   ]
  },
  {
   "cell_type": "code",
   "execution_count": null,
   "id": "de4d8d7e",
   "metadata": {},
   "outputs": [],
   "source": [
    "df.columns"
   ]
  },
  {
   "cell_type": "code",
   "execution_count": null,
   "id": "159e3113",
   "metadata": {
    "scrolled": false
   },
   "outputs": [],
   "source": [
    "cols = ['CustomerID', 'Gender', 'Age', 'Annual Income (k$)',\n",
    "       'Spending Score (1-100)']\n",
    "\n",
    "for i in cols:\n",
    "    plt.figure(i)\n",
    "    sns.histplot(df[i])"
   ]
  },
  {
   "cell_type": "code",
   "execution_count": null,
   "id": "535bd4ea",
   "metadata": {
    "scrolled": false
   },
   "outputs": [],
   "source": [
    "cols = ['CustomerID', 'Age', 'Annual Income (k$)',\n",
    "       'Spending Score (1-100)']\n",
    "\n",
    "for i in cols:\n",
    "    plt.figure(i)\n",
    "    sns.kdeplot(df[i], fill = True, color = \"salmon\")"
   ]
  },
  {
   "cell_type": "code",
   "execution_count": null,
   "id": "6f65f581",
   "metadata": {},
   "outputs": [],
   "source": [
    "df.Gender.value_counts(normalize=True)"
   ]
  },
  {
   "cell_type": "code",
   "execution_count": null,
   "id": "a124243a",
   "metadata": {},
   "outputs": [],
   "source": [
    "sns.pairplot(df, hue=\"Gender\")"
   ]
  },
  {
   "cell_type": "code",
   "execution_count": null,
   "id": "dc559ddd",
   "metadata": {},
   "outputs": [],
   "source": [
    "sns.heatmap(df.drop([\"Gender\", \"CustomerID\"], axis = 1).corr(), annot=True)"
   ]
  },
  {
   "cell_type": "markdown",
   "id": "93835f0a",
   "metadata": {},
   "source": [
    "### Clustering"
   ]
  },
  {
   "cell_type": "code",
   "execution_count": null,
   "id": "65058644",
   "metadata": {},
   "outputs": [],
   "source": [
    "X = df.iloc[:, [3,4]].values\n",
    "# by this I've got the columns of annual income and spending score"
   ]
  },
  {
   "cell_type": "code",
   "execution_count": null,
   "id": "a51dedeb",
   "metadata": {
    "scrolled": true
   },
   "outputs": [],
   "source": [
    "# finding the optimal number of the clusters using the elbow method\n",
    "\n",
    "sse_list = [] # sse = Sum of squared errors\n",
    "\n",
    "# we always assume that the max number of cluster would be 10\n",
    "# so you can judge the number of clusters by doing average\n",
    "\n",
    "for i in range (1, 11):\n",
    "    kmeans = KMeans(n_clusters=i, random_state=0, n_init=\"auto\")\n",
    "    kmeans.fit(X)\n",
    "    sse_list.append(kmeans.inertia_)\n",
    "    \n",
    "    # inertia_ is the formula used to segregate the data points into clusters"
   ]
  },
  {
   "cell_type": "code",
   "execution_count": null,
   "id": "2fbd196e",
   "metadata": {},
   "outputs": [],
   "source": [
    "sse_list"
   ]
  },
  {
   "cell_type": "code",
   "execution_count": null,
   "id": "4572d9e9",
   "metadata": {},
   "outputs": [],
   "source": [
    "# Visualizing the ELBOW method to get the optimal value of K\n",
    "plt.plot(range(1,11), sse_list)\n",
    "plt.title(\"The Elbow Method\")\n",
    "plt.xlabel(\"No. of clusters\")\n",
    "plt.ylabel(\"sse\")\n"
   ]
  },
  {
   "cell_type": "code",
   "execution_count": null,
   "id": "03ee4fa9",
   "metadata": {},
   "outputs": [],
   "source": [
    "kmeansmodel = KMeans(n_clusters= 5, init='k-means++', random_state=0, n_init= \"auto\")\n",
    "y_kmeans= kmeansmodel.fit_predict(X)"
   ]
  },
  {
   "cell_type": "markdown",
   "id": "37988faa",
   "metadata": {},
   "source": [
    "> For unsupervised learning we use \"fit_predict()\" wherein for supervised learning we use \"fit_transform()\"\n",
    "\n",
    "> y_kmeans is the final model. Now how and where we will deploy this model in production is depends on what tool we are using.\n",
    "\n",
    "> This use case is very common and it is used in BFS industry (credit card) and retail for customer segmentation."
   ]
  },
  {
   "cell_type": "code",
   "execution_count": null,
   "id": "571836d4",
   "metadata": {},
   "outputs": [],
   "source": [
    "#Visualizing all the clusters \n",
    "\n",
    "plt.scatter(X[y_kmeans == 0, 0], X[y_kmeans == 0, 1], c = 'red', label = 'Cluster 1')\n",
    "plt.scatter(X[y_kmeans == 1, 0], X[y_kmeans == 1, 1], c = 'blue', label = 'Cluster 2')\n",
    "plt.scatter(X[y_kmeans == 2, 0], X[y_kmeans == 2, 1], c = 'green', label = 'Cluster 3')\n",
    "plt.scatter(X[y_kmeans == 3, 0], X[y_kmeans == 3, 1], c = 'cyan', label = 'Cluster 4')\n",
    "plt.scatter(X[y_kmeans == 4, 0], X[y_kmeans == 4, 1], c = 'magenta', label = 'Cluster 5')\n",
    "plt.scatter(kmeansmodel.cluster_centers_[:, 0], kmeansmodel.cluster_centers_[:, 1],marker='*', s = 100, c = 'brown', label = 'Centroids')\n",
    "plt.title('Clusters of customers')\n",
    "plt.xlabel('Annual Income (k$)')\n",
    "plt.ylabel('Spending Score (1-100)')\n",
    "plt.legend()\n",
    "plt.show()"
   ]
  },
  {
   "cell_type": "markdown",
   "id": "3f357270",
   "metadata": {},
   "source": [
    "### Model Interpretation \n",
    "    1. Cluster 1 (Red Color) -> earning high but spending less\n",
    "    2. Cluster 2 (Blue Colr) -> average in terms of earning and spending \n",
    "    3. Cluster 3 (Green Color) -> earning high and also spending high [TARGET SET]\n",
    "    4. Cluster 4 (cyan Color) -> earning less but spending more\n",
    "    5. Cluster 5 (magenta Color) -> Earning less , spending less\n",
    "\n",
    "\n",
    "###### We can put Cluster 3 into some alerting system where email can be send to them on daily basis as these re easy to converse ######\n",
    "wherein others we can set like once in a week or once in a month\n"
   ]
  }
 ],
 "metadata": {
  "kernelspec": {
   "display_name": "Python 3 (ipykernel)",
   "language": "python",
   "name": "python3"
  },
  "language_info": {
   "codemirror_mode": {
    "name": "ipython",
    "version": 3
   },
   "file_extension": ".py",
   "mimetype": "text/x-python",
   "name": "python",
   "nbconvert_exporter": "python",
   "pygments_lexer": "ipython3",
   "version": "3.10.13"
  }
 },
 "nbformat": 4,
 "nbformat_minor": 5
}
